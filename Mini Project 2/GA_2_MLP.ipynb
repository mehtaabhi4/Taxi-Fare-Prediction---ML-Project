{
  "nbformat": 4,
  "nbformat_minor": 0,
  "metadata": {
    "colab": {
      "provenance": [],
      "toc_visible": true,
      "authorship_tag": "ABX9TyMA22TirJpPzwVxg5MrEkJy",
      "include_colab_link": true
    },
    "kernelspec": {
      "name": "python3",
      "display_name": "Python 3"
    },
    "language_info": {
      "name": "python"
    }
  },
  "cells": [
    {
      "cell_type": "markdown",
      "metadata": {
        "id": "view-in-github",
        "colab_type": "text"
      },
      "source": [
        "<a href=\"https://colab.research.google.com/github/mehtaabhi4/Machine-Learning-Practice-MLP/blob/main/Mini%20Project%202/GA_2_MLP.ipynb\" target=\"_parent\"><img src=\"https://colab.research.google.com/assets/colab-badge.svg\" alt=\"Open In Colab\"/></a>"
      ]
    },
    {
      "cell_type": "markdown",
      "source": [
        "Loading Dataset"
      ],
      "metadata": {
        "id": "2hnurywL7Jvk"
      }
    },
    {
      "cell_type": "code",
      "execution_count": null,
      "metadata": {
        "colab": {
          "base_uri": "https://localhost:8080/",
          "height": 310
        },
        "id": "0-057RxM17rx",
        "outputId": "89d4d70e-e56e-4d00-f28c-cbae9c96d0aa"
      },
      "outputs": [
        {
          "output_type": "execute_result",
          "data": {
            "text/plain": [
              "         Date  Year    Locality  Estimated Value  Sale Price       Property  \\\n",
              "0  2009-01-02  2009   Waterbury         111440.0    185000.0  Single Family   \n",
              "1  2009-01-02  2009  Bridgeport         124670.0    150000.0     Two Family   \n",
              "2  2009-01-02  2009   Waterbury          55720.0    140000.0  Single Family   \n",
              "3  2009-01-02  2009  Bridgeport        4775276.0    272900.0  Single Family   \n",
              "4  2009-01-02  2009  Bridgeport         112351.0    210000.0            NaN   \n",
              "\n",
              "      Residential  num_rooms  num_bathrooms  carpet_area  property_tax_rate  \\\n",
              "0  Detached House          3              3        996.0           1.025953   \n",
              "1          Duplex          4              3       1241.0           1.025953   \n",
              "2  Detached House          3              2        910.0           1.025953   \n",
              "3  Detached House          3              1        971.0           1.025953   \n",
              "4  Detached House          3              2       1092.0           1.025953   \n",
              "\n",
              "    Face  \n",
              "0  South  \n",
              "1  South  \n",
              "2  South  \n",
              "3   East  \n",
              "4   East  "
            ],
            "text/html": [
              "\n",
              "  <div id=\"df-acf6dc3d-0026-4b83-bdb1-f664d9d12056\" class=\"colab-df-container\">\n",
              "    <div>\n",
              "<style scoped>\n",
              "    .dataframe tbody tr th:only-of-type {\n",
              "        vertical-align: middle;\n",
              "    }\n",
              "\n",
              "    .dataframe tbody tr th {\n",
              "        vertical-align: top;\n",
              "    }\n",
              "\n",
              "    .dataframe thead th {\n",
              "        text-align: right;\n",
              "    }\n",
              "</style>\n",
              "<table border=\"1\" class=\"dataframe\">\n",
              "  <thead>\n",
              "    <tr style=\"text-align: right;\">\n",
              "      <th></th>\n",
              "      <th>Date</th>\n",
              "      <th>Year</th>\n",
              "      <th>Locality</th>\n",
              "      <th>Estimated Value</th>\n",
              "      <th>Sale Price</th>\n",
              "      <th>Property</th>\n",
              "      <th>Residential</th>\n",
              "      <th>num_rooms</th>\n",
              "      <th>num_bathrooms</th>\n",
              "      <th>carpet_area</th>\n",
              "      <th>property_tax_rate</th>\n",
              "      <th>Face</th>\n",
              "    </tr>\n",
              "  </thead>\n",
              "  <tbody>\n",
              "    <tr>\n",
              "      <th>0</th>\n",
              "      <td>2009-01-02</td>\n",
              "      <td>2009</td>\n",
              "      <td>Waterbury</td>\n",
              "      <td>111440.0</td>\n",
              "      <td>185000.0</td>\n",
              "      <td>Single Family</td>\n",
              "      <td>Detached House</td>\n",
              "      <td>3</td>\n",
              "      <td>3</td>\n",
              "      <td>996.0</td>\n",
              "      <td>1.025953</td>\n",
              "      <td>South</td>\n",
              "    </tr>\n",
              "    <tr>\n",
              "      <th>1</th>\n",
              "      <td>2009-01-02</td>\n",
              "      <td>2009</td>\n",
              "      <td>Bridgeport</td>\n",
              "      <td>124670.0</td>\n",
              "      <td>150000.0</td>\n",
              "      <td>Two Family</td>\n",
              "      <td>Duplex</td>\n",
              "      <td>4</td>\n",
              "      <td>3</td>\n",
              "      <td>1241.0</td>\n",
              "      <td>1.025953</td>\n",
              "      <td>South</td>\n",
              "    </tr>\n",
              "    <tr>\n",
              "      <th>2</th>\n",
              "      <td>2009-01-02</td>\n",
              "      <td>2009</td>\n",
              "      <td>Waterbury</td>\n",
              "      <td>55720.0</td>\n",
              "      <td>140000.0</td>\n",
              "      <td>Single Family</td>\n",
              "      <td>Detached House</td>\n",
              "      <td>3</td>\n",
              "      <td>2</td>\n",
              "      <td>910.0</td>\n",
              "      <td>1.025953</td>\n",
              "      <td>South</td>\n",
              "    </tr>\n",
              "    <tr>\n",
              "      <th>3</th>\n",
              "      <td>2009-01-02</td>\n",
              "      <td>2009</td>\n",
              "      <td>Bridgeport</td>\n",
              "      <td>4775276.0</td>\n",
              "      <td>272900.0</td>\n",
              "      <td>Single Family</td>\n",
              "      <td>Detached House</td>\n",
              "      <td>3</td>\n",
              "      <td>1</td>\n",
              "      <td>971.0</td>\n",
              "      <td>1.025953</td>\n",
              "      <td>East</td>\n",
              "    </tr>\n",
              "    <tr>\n",
              "      <th>4</th>\n",
              "      <td>2009-01-02</td>\n",
              "      <td>2009</td>\n",
              "      <td>Bridgeport</td>\n",
              "      <td>112351.0</td>\n",
              "      <td>210000.0</td>\n",
              "      <td>NaN</td>\n",
              "      <td>Detached House</td>\n",
              "      <td>3</td>\n",
              "      <td>2</td>\n",
              "      <td>1092.0</td>\n",
              "      <td>1.025953</td>\n",
              "      <td>East</td>\n",
              "    </tr>\n",
              "  </tbody>\n",
              "</table>\n",
              "</div>\n",
              "    <div class=\"colab-df-buttons\">\n",
              "\n",
              "  <div class=\"colab-df-container\">\n",
              "    <button class=\"colab-df-convert\" onclick=\"convertToInteractive('df-acf6dc3d-0026-4b83-bdb1-f664d9d12056')\"\n",
              "            title=\"Convert this dataframe to an interactive table.\"\n",
              "            style=\"display:none;\">\n",
              "\n",
              "  <svg xmlns=\"http://www.w3.org/2000/svg\" height=\"24px\" viewBox=\"0 -960 960 960\">\n",
              "    <path d=\"M120-120v-720h720v720H120Zm60-500h600v-160H180v160Zm220 220h160v-160H400v160Zm0 220h160v-160H400v160ZM180-400h160v-160H180v160Zm440 0h160v-160H620v160ZM180-180h160v-160H180v160Zm440 0h160v-160H620v160Z\"/>\n",
              "  </svg>\n",
              "    </button>\n",
              "\n",
              "  <style>\n",
              "    .colab-df-container {\n",
              "      display:flex;\n",
              "      gap: 12px;\n",
              "    }\n",
              "\n",
              "    .colab-df-convert {\n",
              "      background-color: #E8F0FE;\n",
              "      border: none;\n",
              "      border-radius: 50%;\n",
              "      cursor: pointer;\n",
              "      display: none;\n",
              "      fill: #1967D2;\n",
              "      height: 32px;\n",
              "      padding: 0 0 0 0;\n",
              "      width: 32px;\n",
              "    }\n",
              "\n",
              "    .colab-df-convert:hover {\n",
              "      background-color: #E2EBFA;\n",
              "      box-shadow: 0px 1px 2px rgba(60, 64, 67, 0.3), 0px 1px 3px 1px rgba(60, 64, 67, 0.15);\n",
              "      fill: #174EA6;\n",
              "    }\n",
              "\n",
              "    .colab-df-buttons div {\n",
              "      margin-bottom: 4px;\n",
              "    }\n",
              "\n",
              "    [theme=dark] .colab-df-convert {\n",
              "      background-color: #3B4455;\n",
              "      fill: #D2E3FC;\n",
              "    }\n",
              "\n",
              "    [theme=dark] .colab-df-convert:hover {\n",
              "      background-color: #434B5C;\n",
              "      box-shadow: 0px 1px 3px 1px rgba(0, 0, 0, 0.15);\n",
              "      filter: drop-shadow(0px 1px 2px rgba(0, 0, 0, 0.3));\n",
              "      fill: #FFFFFF;\n",
              "    }\n",
              "  </style>\n",
              "\n",
              "    <script>\n",
              "      const buttonEl =\n",
              "        document.querySelector('#df-acf6dc3d-0026-4b83-bdb1-f664d9d12056 button.colab-df-convert');\n",
              "      buttonEl.style.display =\n",
              "        google.colab.kernel.accessAllowed ? 'block' : 'none';\n",
              "\n",
              "      async function convertToInteractive(key) {\n",
              "        const element = document.querySelector('#df-acf6dc3d-0026-4b83-bdb1-f664d9d12056');\n",
              "        const dataTable =\n",
              "          await google.colab.kernel.invokeFunction('convertToInteractive',\n",
              "                                                    [key], {});\n",
              "        if (!dataTable) return;\n",
              "\n",
              "        const docLinkHtml = 'Like what you see? Visit the ' +\n",
              "          '<a target=\"_blank\" href=https://colab.research.google.com/notebooks/data_table.ipynb>data table notebook</a>'\n",
              "          + ' to learn more about interactive tables.';\n",
              "        element.innerHTML = '';\n",
              "        dataTable['output_type'] = 'display_data';\n",
              "        await google.colab.output.renderOutput(dataTable, element);\n",
              "        const docLink = document.createElement('div');\n",
              "        docLink.innerHTML = docLinkHtml;\n",
              "        element.appendChild(docLink);\n",
              "      }\n",
              "    </script>\n",
              "  </div>\n",
              "\n",
              "\n",
              "<div id=\"df-eaab6a6c-5eee-4d21-8c8c-628327341a45\">\n",
              "  <button class=\"colab-df-quickchart\" onclick=\"quickchart('df-eaab6a6c-5eee-4d21-8c8c-628327341a45')\"\n",
              "            title=\"Suggest charts.\"\n",
              "            style=\"display:none;\">\n",
              "\n",
              "<svg xmlns=\"http://www.w3.org/2000/svg\" height=\"24px\"viewBox=\"0 0 24 24\"\n",
              "     width=\"24px\">\n",
              "    <g>\n",
              "        <path d=\"M19 3H5c-1.1 0-2 .9-2 2v14c0 1.1.9 2 2 2h14c1.1 0 2-.9 2-2V5c0-1.1-.9-2-2-2zM9 17H7v-7h2v7zm4 0h-2V7h2v10zm4 0h-2v-4h2v4z\"/>\n",
              "    </g>\n",
              "</svg>\n",
              "  </button>\n",
              "\n",
              "<style>\n",
              "  .colab-df-quickchart {\n",
              "      --bg-color: #E8F0FE;\n",
              "      --fill-color: #1967D2;\n",
              "      --hover-bg-color: #E2EBFA;\n",
              "      --hover-fill-color: #174EA6;\n",
              "      --disabled-fill-color: #AAA;\n",
              "      --disabled-bg-color: #DDD;\n",
              "  }\n",
              "\n",
              "  [theme=dark] .colab-df-quickchart {\n",
              "      --bg-color: #3B4455;\n",
              "      --fill-color: #D2E3FC;\n",
              "      --hover-bg-color: #434B5C;\n",
              "      --hover-fill-color: #FFFFFF;\n",
              "      --disabled-bg-color: #3B4455;\n",
              "      --disabled-fill-color: #666;\n",
              "  }\n",
              "\n",
              "  .colab-df-quickchart {\n",
              "    background-color: var(--bg-color);\n",
              "    border: none;\n",
              "    border-radius: 50%;\n",
              "    cursor: pointer;\n",
              "    display: none;\n",
              "    fill: var(--fill-color);\n",
              "    height: 32px;\n",
              "    padding: 0;\n",
              "    width: 32px;\n",
              "  }\n",
              "\n",
              "  .colab-df-quickchart:hover {\n",
              "    background-color: var(--hover-bg-color);\n",
              "    box-shadow: 0 1px 2px rgba(60, 64, 67, 0.3), 0 1px 3px 1px rgba(60, 64, 67, 0.15);\n",
              "    fill: var(--button-hover-fill-color);\n",
              "  }\n",
              "\n",
              "  .colab-df-quickchart-complete:disabled,\n",
              "  .colab-df-quickchart-complete:disabled:hover {\n",
              "    background-color: var(--disabled-bg-color);\n",
              "    fill: var(--disabled-fill-color);\n",
              "    box-shadow: none;\n",
              "  }\n",
              "\n",
              "  .colab-df-spinner {\n",
              "    border: 2px solid var(--fill-color);\n",
              "    border-color: transparent;\n",
              "    border-bottom-color: var(--fill-color);\n",
              "    animation:\n",
              "      spin 1s steps(1) infinite;\n",
              "  }\n",
              "\n",
              "  @keyframes spin {\n",
              "    0% {\n",
              "      border-color: transparent;\n",
              "      border-bottom-color: var(--fill-color);\n",
              "      border-left-color: var(--fill-color);\n",
              "    }\n",
              "    20% {\n",
              "      border-color: transparent;\n",
              "      border-left-color: var(--fill-color);\n",
              "      border-top-color: var(--fill-color);\n",
              "    }\n",
              "    30% {\n",
              "      border-color: transparent;\n",
              "      border-left-color: var(--fill-color);\n",
              "      border-top-color: var(--fill-color);\n",
              "      border-right-color: var(--fill-color);\n",
              "    }\n",
              "    40% {\n",
              "      border-color: transparent;\n",
              "      border-right-color: var(--fill-color);\n",
              "      border-top-color: var(--fill-color);\n",
              "    }\n",
              "    60% {\n",
              "      border-color: transparent;\n",
              "      border-right-color: var(--fill-color);\n",
              "    }\n",
              "    80% {\n",
              "      border-color: transparent;\n",
              "      border-right-color: var(--fill-color);\n",
              "      border-bottom-color: var(--fill-color);\n",
              "    }\n",
              "    90% {\n",
              "      border-color: transparent;\n",
              "      border-bottom-color: var(--fill-color);\n",
              "    }\n",
              "  }\n",
              "</style>\n",
              "\n",
              "  <script>\n",
              "    async function quickchart(key) {\n",
              "      const quickchartButtonEl =\n",
              "        document.querySelector('#' + key + ' button');\n",
              "      quickchartButtonEl.disabled = true;  // To prevent multiple clicks.\n",
              "      quickchartButtonEl.classList.add('colab-df-spinner');\n",
              "      try {\n",
              "        const charts = await google.colab.kernel.invokeFunction(\n",
              "            'suggestCharts', [key], {});\n",
              "      } catch (error) {\n",
              "        console.error('Error during call to suggestCharts:', error);\n",
              "      }\n",
              "      quickchartButtonEl.classList.remove('colab-df-spinner');\n",
              "      quickchartButtonEl.classList.add('colab-df-quickchart-complete');\n",
              "    }\n",
              "    (() => {\n",
              "      let quickchartButtonEl =\n",
              "        document.querySelector('#df-eaab6a6c-5eee-4d21-8c8c-628327341a45 button');\n",
              "      quickchartButtonEl.style.display =\n",
              "        google.colab.kernel.accessAllowed ? 'block' : 'none';\n",
              "    })();\n",
              "  </script>\n",
              "</div>\n",
              "    </div>\n",
              "  </div>\n"
            ]
          },
          "metadata": {},
          "execution_count": 4
        }
      ],
      "source": [
        "import pandas as pd\n",
        "import numpy as np\n",
        "\n",
        "df = pd.read_csv('/content/V5.csv')\n",
        "df.replace('?', np.nan, inplace=True)\n",
        "df.head()\n"
      ]
    },
    {
      "cell_type": "markdown",
      "source": [
        "#Week 2 Graded Assignment 2.1"
      ],
      "metadata": {
        "id": "iUusqAig8pTq"
      }
    },
    {
      "cell_type": "markdown",
      "source": [
        "Q1 How many unknown (\"?) values are present in the dataset?"
      ],
      "metadata": {
        "id": "PguW-JlG7ODB"
      }
    },
    {
      "cell_type": "code",
      "source": [
        "df.isna().sum().sum()"
      ],
      "metadata": {
        "colab": {
          "base_uri": "https://localhost:8080/"
        },
        "id": "rWTIWZR42X3n",
        "outputId": "f4add81f-78a9-4d52-8894-c20172bef240"
      },
      "execution_count": null,
      "outputs": [
        {
          "output_type": "execute_result",
          "data": {
            "text/plain": [
              "5548"
            ]
          },
          "metadata": {},
          "execution_count": 5
        }
      ]
    },
    {
      "cell_type": "markdown",
      "source": [
        "Q2 What is the shape of the dataset ?"
      ],
      "metadata": {
        "id": "OMgxlJ8g7WmN"
      }
    },
    {
      "cell_type": "code",
      "source": [
        "df.shape"
      ],
      "metadata": {
        "colab": {
          "base_uri": "https://localhost:8080/"
        },
        "id": "-r9mXFBo2nJX",
        "outputId": "6863972c-6628-4fd1-f219-f111ff0ec296"
      },
      "execution_count": null,
      "outputs": [
        {
          "output_type": "execute_result",
          "data": {
            "text/plain": [
              "(10000, 12)"
            ]
          },
          "metadata": {},
          "execution_count": 6
        }
      ]
    },
    {
      "cell_type": "markdown",
      "source": [
        "Q3 What is the value present at the 692th indexed row and 0th indexed column in the data ?"
      ],
      "metadata": {
        "id": "7gyoLRuD7alg"
      }
    },
    {
      "cell_type": "code",
      "source": [
        "df.iloc[692,0]"
      ],
      "metadata": {
        "colab": {
          "base_uri": "https://localhost:8080/",
          "height": 36
        },
        "id": "5W7_yD7F2uLo",
        "outputId": "54f722d1-467b-48d5-ef1d-0d5c09384564"
      },
      "execution_count": null,
      "outputs": [
        {
          "output_type": "execute_result",
          "data": {
            "text/plain": [
              "'2009-11-16'"
            ],
            "application/vnd.google.colaboratory.intrinsic+json": {
              "type": "string"
            }
          },
          "metadata": {},
          "execution_count": 7
        }
      ]
    },
    {
      "cell_type": "markdown",
      "source": [
        "Q4 What is the value present at the 546th indexed row and 7th indexed column in the data ?"
      ],
      "metadata": {
        "id": "5vH6JC4_7epm"
      }
    },
    {
      "cell_type": "code",
      "source": [
        "df.iloc[546,7]"
      ],
      "metadata": {
        "colab": {
          "base_uri": "https://localhost:8080/"
        },
        "id": "t1j2Glxi20p6",
        "outputId": "25e87c70-a5b5-45fc-bc3d-a0579c144214"
      },
      "execution_count": null,
      "outputs": [
        {
          "output_type": "execute_result",
          "data": {
            "text/plain": [
              "3"
            ]
          },
          "metadata": {},
          "execution_count": 8
        }
      ]
    },
    {
      "cell_type": "markdown",
      "source": [
        "Q5 What are the unique values present in the Locality feature of the dataset?"
      ],
      "metadata": {
        "id": "5h55AZra7nV6"
      }
    },
    {
      "cell_type": "code",
      "source": [
        "df[\"Locality\"].unique()"
      ],
      "metadata": {
        "colab": {
          "base_uri": "https://localhost:8080/"
        },
        "id": "UprLNebB29kU",
        "outputId": "9efff5a5-f88e-4c81-e1c5-262db1ccb5e2"
      },
      "execution_count": null,
      "outputs": [
        {
          "output_type": "execute_result",
          "data": {
            "text/plain": [
              "array(['Waterbury', 'Bridgeport', 'Greenwich', 'Norwalk', nan,\n",
              "       'Fairfield', 'West Hartford', 'Stamford'], dtype=object)"
            ]
          },
          "metadata": {},
          "execution_count": 9
        }
      ]
    },
    {
      "cell_type": "markdown",
      "source": [
        "Q6 Which of the following features have missing(NaN) values present in the dataset?\n",
        "\n",
        "Q7 Which of the following feature has most missing(NaN) values present in the dataset?"
      ],
      "metadata": {
        "id": "_uaXKGts7p9q"
      }
    },
    {
      "cell_type": "code",
      "source": [
        "print(df['Year'].isna().sum())\n",
        "print(df['Estimated Value'].isna().sum())\n",
        "print(df['Sale Price'].isna().sum())\n",
        "print(df['Locality'].isna().sum())\n",
        "print(df['Property'].isna().sum())\n",
        "print(df['property_tax_rate'].isna().sum())\n",
        "print(df['carpet_area'].isna().sum())"
      ],
      "metadata": {
        "colab": {
          "base_uri": "https://localhost:8080/"
        },
        "id": "C3oxapYV3YA_",
        "outputId": "723b845e-4c0e-4521-8742-7870a14df5a6"
      },
      "execution_count": null,
      "outputs": [
        {
          "output_type": "stream",
          "name": "stdout",
          "text": [
            "0\n",
            "1243\n",
            "0\n",
            "1253\n",
            "1823\n",
            "0\n",
            "1229\n"
          ]
        }
      ]
    },
    {
      "cell_type": "markdown",
      "source": [
        "Q8 Drop all the samples(rows) with missing values strictly greater than 2. How many samples remains after that ?"
      ],
      "metadata": {
        "id": "Vrm7XSTe79wX"
      }
    },
    {
      "cell_type": "code",
      "source": [
        "df_filtered = df[df.isna().sum(axis=1) <= 2]\n",
        "df_filtered.shape"
      ],
      "metadata": {
        "colab": {
          "base_uri": "https://localhost:8080/"
        },
        "id": "E6ehL-4O46J9",
        "outputId": "f1211ca1-07b7-49d9-dfe0-a5b074cdd23f"
      },
      "execution_count": null,
      "outputs": [
        {
          "output_type": "execute_result",
          "data": {
            "text/plain": [
              "(9917, 12)"
            ]
          },
          "metadata": {},
          "execution_count": 11
        }
      ]
    },
    {
      "cell_type": "markdown",
      "source": [
        "Q9 Drop all the samples(rows) with missing values in the original dataframe . How many samples remains after that ?"
      ],
      "metadata": {
        "id": "zbzvo9Vt8DAd"
      }
    },
    {
      "cell_type": "code",
      "source": [
        "df_ = df.dropna()\n",
        "df_.shape"
      ],
      "metadata": {
        "colab": {
          "base_uri": "https://localhost:8080/"
        },
        "id": "1THjg8Jd4KPx",
        "outputId": "8339232d-8116-4f81-bc4b-c541f0c400bd"
      },
      "execution_count": null,
      "outputs": [
        {
          "output_type": "execute_result",
          "data": {
            "text/plain": [
              "(5449, 12)"
            ]
          },
          "metadata": {},
          "execution_count": 12
        }
      ]
    },
    {
      "cell_type": "markdown",
      "source": [
        "#Week 2 Graded Assignment 2.2"
      ],
      "metadata": {
        "id": "iLuDe4ZJ8x1n"
      }
    },
    {
      "cell_type": "code",
      "source": [
        "df.head()"
      ],
      "metadata": {
        "colab": {
          "base_uri": "https://localhost:8080/",
          "height": 310
        },
        "id": "BI_MVM4j82dG",
        "outputId": "d301c422-ae34-4b62-dca7-87720e984b9b"
      },
      "execution_count": null,
      "outputs": [
        {
          "output_type": "execute_result",
          "data": {
            "text/plain": [
              "         Date  Year    Locality  Estimated Value  Sale Price       Property  \\\n",
              "0  2009-01-02  2009   Waterbury         111440.0    185000.0  Single Family   \n",
              "1  2009-01-02  2009  Bridgeport         124670.0    150000.0     Two Family   \n",
              "2  2009-01-02  2009   Waterbury          55720.0    140000.0  Single Family   \n",
              "3  2009-01-02  2009  Bridgeport        4775276.0    272900.0  Single Family   \n",
              "4  2009-01-02  2009  Bridgeport         112351.0    210000.0            NaN   \n",
              "\n",
              "      Residential  num_rooms  num_bathrooms  carpet_area  property_tax_rate  \\\n",
              "0  Detached House          3              3        996.0           1.025953   \n",
              "1          Duplex          4              3       1241.0           1.025953   \n",
              "2  Detached House          3              2        910.0           1.025953   \n",
              "3  Detached House          3              1        971.0           1.025953   \n",
              "4  Detached House          3              2       1092.0           1.025953   \n",
              "\n",
              "    Face  \n",
              "0  South  \n",
              "1  South  \n",
              "2  South  \n",
              "3   East  \n",
              "4   East  "
            ],
            "text/html": [
              "\n",
              "  <div id=\"df-b7031c5c-6428-4711-906e-82756fcdc76b\" class=\"colab-df-container\">\n",
              "    <div>\n",
              "<style scoped>\n",
              "    .dataframe tbody tr th:only-of-type {\n",
              "        vertical-align: middle;\n",
              "    }\n",
              "\n",
              "    .dataframe tbody tr th {\n",
              "        vertical-align: top;\n",
              "    }\n",
              "\n",
              "    .dataframe thead th {\n",
              "        text-align: right;\n",
              "    }\n",
              "</style>\n",
              "<table border=\"1\" class=\"dataframe\">\n",
              "  <thead>\n",
              "    <tr style=\"text-align: right;\">\n",
              "      <th></th>\n",
              "      <th>Date</th>\n",
              "      <th>Year</th>\n",
              "      <th>Locality</th>\n",
              "      <th>Estimated Value</th>\n",
              "      <th>Sale Price</th>\n",
              "      <th>Property</th>\n",
              "      <th>Residential</th>\n",
              "      <th>num_rooms</th>\n",
              "      <th>num_bathrooms</th>\n",
              "      <th>carpet_area</th>\n",
              "      <th>property_tax_rate</th>\n",
              "      <th>Face</th>\n",
              "    </tr>\n",
              "  </thead>\n",
              "  <tbody>\n",
              "    <tr>\n",
              "      <th>0</th>\n",
              "      <td>2009-01-02</td>\n",
              "      <td>2009</td>\n",
              "      <td>Waterbury</td>\n",
              "      <td>111440.0</td>\n",
              "      <td>185000.0</td>\n",
              "      <td>Single Family</td>\n",
              "      <td>Detached House</td>\n",
              "      <td>3</td>\n",
              "      <td>3</td>\n",
              "      <td>996.0</td>\n",
              "      <td>1.025953</td>\n",
              "      <td>South</td>\n",
              "    </tr>\n",
              "    <tr>\n",
              "      <th>1</th>\n",
              "      <td>2009-01-02</td>\n",
              "      <td>2009</td>\n",
              "      <td>Bridgeport</td>\n",
              "      <td>124670.0</td>\n",
              "      <td>150000.0</td>\n",
              "      <td>Two Family</td>\n",
              "      <td>Duplex</td>\n",
              "      <td>4</td>\n",
              "      <td>3</td>\n",
              "      <td>1241.0</td>\n",
              "      <td>1.025953</td>\n",
              "      <td>South</td>\n",
              "    </tr>\n",
              "    <tr>\n",
              "      <th>2</th>\n",
              "      <td>2009-01-02</td>\n",
              "      <td>2009</td>\n",
              "      <td>Waterbury</td>\n",
              "      <td>55720.0</td>\n",
              "      <td>140000.0</td>\n",
              "      <td>Single Family</td>\n",
              "      <td>Detached House</td>\n",
              "      <td>3</td>\n",
              "      <td>2</td>\n",
              "      <td>910.0</td>\n",
              "      <td>1.025953</td>\n",
              "      <td>South</td>\n",
              "    </tr>\n",
              "    <tr>\n",
              "      <th>3</th>\n",
              "      <td>2009-01-02</td>\n",
              "      <td>2009</td>\n",
              "      <td>Bridgeport</td>\n",
              "      <td>4775276.0</td>\n",
              "      <td>272900.0</td>\n",
              "      <td>Single Family</td>\n",
              "      <td>Detached House</td>\n",
              "      <td>3</td>\n",
              "      <td>1</td>\n",
              "      <td>971.0</td>\n",
              "      <td>1.025953</td>\n",
              "      <td>East</td>\n",
              "    </tr>\n",
              "    <tr>\n",
              "      <th>4</th>\n",
              "      <td>2009-01-02</td>\n",
              "      <td>2009</td>\n",
              "      <td>Bridgeport</td>\n",
              "      <td>112351.0</td>\n",
              "      <td>210000.0</td>\n",
              "      <td>NaN</td>\n",
              "      <td>Detached House</td>\n",
              "      <td>3</td>\n",
              "      <td>2</td>\n",
              "      <td>1092.0</td>\n",
              "      <td>1.025953</td>\n",
              "      <td>East</td>\n",
              "    </tr>\n",
              "  </tbody>\n",
              "</table>\n",
              "</div>\n",
              "    <div class=\"colab-df-buttons\">\n",
              "\n",
              "  <div class=\"colab-df-container\">\n",
              "    <button class=\"colab-df-convert\" onclick=\"convertToInteractive('df-b7031c5c-6428-4711-906e-82756fcdc76b')\"\n",
              "            title=\"Convert this dataframe to an interactive table.\"\n",
              "            style=\"display:none;\">\n",
              "\n",
              "  <svg xmlns=\"http://www.w3.org/2000/svg\" height=\"24px\" viewBox=\"0 -960 960 960\">\n",
              "    <path d=\"M120-120v-720h720v720H120Zm60-500h600v-160H180v160Zm220 220h160v-160H400v160Zm0 220h160v-160H400v160ZM180-400h160v-160H180v160Zm440 0h160v-160H620v160ZM180-180h160v-160H180v160Zm440 0h160v-160H620v160Z\"/>\n",
              "  </svg>\n",
              "    </button>\n",
              "\n",
              "  <style>\n",
              "    .colab-df-container {\n",
              "      display:flex;\n",
              "      gap: 12px;\n",
              "    }\n",
              "\n",
              "    .colab-df-convert {\n",
              "      background-color: #E8F0FE;\n",
              "      border: none;\n",
              "      border-radius: 50%;\n",
              "      cursor: pointer;\n",
              "      display: none;\n",
              "      fill: #1967D2;\n",
              "      height: 32px;\n",
              "      padding: 0 0 0 0;\n",
              "      width: 32px;\n",
              "    }\n",
              "\n",
              "    .colab-df-convert:hover {\n",
              "      background-color: #E2EBFA;\n",
              "      box-shadow: 0px 1px 2px rgba(60, 64, 67, 0.3), 0px 1px 3px 1px rgba(60, 64, 67, 0.15);\n",
              "      fill: #174EA6;\n",
              "    }\n",
              "\n",
              "    .colab-df-buttons div {\n",
              "      margin-bottom: 4px;\n",
              "    }\n",
              "\n",
              "    [theme=dark] .colab-df-convert {\n",
              "      background-color: #3B4455;\n",
              "      fill: #D2E3FC;\n",
              "    }\n",
              "\n",
              "    [theme=dark] .colab-df-convert:hover {\n",
              "      background-color: #434B5C;\n",
              "      box-shadow: 0px 1px 3px 1px rgba(0, 0, 0, 0.15);\n",
              "      filter: drop-shadow(0px 1px 2px rgba(0, 0, 0, 0.3));\n",
              "      fill: #FFFFFF;\n",
              "    }\n",
              "  </style>\n",
              "\n",
              "    <script>\n",
              "      const buttonEl =\n",
              "        document.querySelector('#df-b7031c5c-6428-4711-906e-82756fcdc76b button.colab-df-convert');\n",
              "      buttonEl.style.display =\n",
              "        google.colab.kernel.accessAllowed ? 'block' : 'none';\n",
              "\n",
              "      async function convertToInteractive(key) {\n",
              "        const element = document.querySelector('#df-b7031c5c-6428-4711-906e-82756fcdc76b');\n",
              "        const dataTable =\n",
              "          await google.colab.kernel.invokeFunction('convertToInteractive',\n",
              "                                                    [key], {});\n",
              "        if (!dataTable) return;\n",
              "\n",
              "        const docLinkHtml = 'Like what you see? Visit the ' +\n",
              "          '<a target=\"_blank\" href=https://colab.research.google.com/notebooks/data_table.ipynb>data table notebook</a>'\n",
              "          + ' to learn more about interactive tables.';\n",
              "        element.innerHTML = '';\n",
              "        dataTable['output_type'] = 'display_data';\n",
              "        await google.colab.output.renderOutput(dataTable, element);\n",
              "        const docLink = document.createElement('div');\n",
              "        docLink.innerHTML = docLinkHtml;\n",
              "        element.appendChild(docLink);\n",
              "      }\n",
              "    </script>\n",
              "  </div>\n",
              "\n",
              "\n",
              "<div id=\"df-7bf840af-1b6f-4468-b530-b02d5948bf6c\">\n",
              "  <button class=\"colab-df-quickchart\" onclick=\"quickchart('df-7bf840af-1b6f-4468-b530-b02d5948bf6c')\"\n",
              "            title=\"Suggest charts.\"\n",
              "            style=\"display:none;\">\n",
              "\n",
              "<svg xmlns=\"http://www.w3.org/2000/svg\" height=\"24px\"viewBox=\"0 0 24 24\"\n",
              "     width=\"24px\">\n",
              "    <g>\n",
              "        <path d=\"M19 3H5c-1.1 0-2 .9-2 2v14c0 1.1.9 2 2 2h14c1.1 0 2-.9 2-2V5c0-1.1-.9-2-2-2zM9 17H7v-7h2v7zm4 0h-2V7h2v10zm4 0h-2v-4h2v4z\"/>\n",
              "    </g>\n",
              "</svg>\n",
              "  </button>\n",
              "\n",
              "<style>\n",
              "  .colab-df-quickchart {\n",
              "      --bg-color: #E8F0FE;\n",
              "      --fill-color: #1967D2;\n",
              "      --hover-bg-color: #E2EBFA;\n",
              "      --hover-fill-color: #174EA6;\n",
              "      --disabled-fill-color: #AAA;\n",
              "      --disabled-bg-color: #DDD;\n",
              "  }\n",
              "\n",
              "  [theme=dark] .colab-df-quickchart {\n",
              "      --bg-color: #3B4455;\n",
              "      --fill-color: #D2E3FC;\n",
              "      --hover-bg-color: #434B5C;\n",
              "      --hover-fill-color: #FFFFFF;\n",
              "      --disabled-bg-color: #3B4455;\n",
              "      --disabled-fill-color: #666;\n",
              "  }\n",
              "\n",
              "  .colab-df-quickchart {\n",
              "    background-color: var(--bg-color);\n",
              "    border: none;\n",
              "    border-radius: 50%;\n",
              "    cursor: pointer;\n",
              "    display: none;\n",
              "    fill: var(--fill-color);\n",
              "    height: 32px;\n",
              "    padding: 0;\n",
              "    width: 32px;\n",
              "  }\n",
              "\n",
              "  .colab-df-quickchart:hover {\n",
              "    background-color: var(--hover-bg-color);\n",
              "    box-shadow: 0 1px 2px rgba(60, 64, 67, 0.3), 0 1px 3px 1px rgba(60, 64, 67, 0.15);\n",
              "    fill: var(--button-hover-fill-color);\n",
              "  }\n",
              "\n",
              "  .colab-df-quickchart-complete:disabled,\n",
              "  .colab-df-quickchart-complete:disabled:hover {\n",
              "    background-color: var(--disabled-bg-color);\n",
              "    fill: var(--disabled-fill-color);\n",
              "    box-shadow: none;\n",
              "  }\n",
              "\n",
              "  .colab-df-spinner {\n",
              "    border: 2px solid var(--fill-color);\n",
              "    border-color: transparent;\n",
              "    border-bottom-color: var(--fill-color);\n",
              "    animation:\n",
              "      spin 1s steps(1) infinite;\n",
              "  }\n",
              "\n",
              "  @keyframes spin {\n",
              "    0% {\n",
              "      border-color: transparent;\n",
              "      border-bottom-color: var(--fill-color);\n",
              "      border-left-color: var(--fill-color);\n",
              "    }\n",
              "    20% {\n",
              "      border-color: transparent;\n",
              "      border-left-color: var(--fill-color);\n",
              "      border-top-color: var(--fill-color);\n",
              "    }\n",
              "    30% {\n",
              "      border-color: transparent;\n",
              "      border-left-color: var(--fill-color);\n",
              "      border-top-color: var(--fill-color);\n",
              "      border-right-color: var(--fill-color);\n",
              "    }\n",
              "    40% {\n",
              "      border-color: transparent;\n",
              "      border-right-color: var(--fill-color);\n",
              "      border-top-color: var(--fill-color);\n",
              "    }\n",
              "    60% {\n",
              "      border-color: transparent;\n",
              "      border-right-color: var(--fill-color);\n",
              "    }\n",
              "    80% {\n",
              "      border-color: transparent;\n",
              "      border-right-color: var(--fill-color);\n",
              "      border-bottom-color: var(--fill-color);\n",
              "    }\n",
              "    90% {\n",
              "      border-color: transparent;\n",
              "      border-bottom-color: var(--fill-color);\n",
              "    }\n",
              "  }\n",
              "</style>\n",
              "\n",
              "  <script>\n",
              "    async function quickchart(key) {\n",
              "      const quickchartButtonEl =\n",
              "        document.querySelector('#' + key + ' button');\n",
              "      quickchartButtonEl.disabled = true;  // To prevent multiple clicks.\n",
              "      quickchartButtonEl.classList.add('colab-df-spinner');\n",
              "      try {\n",
              "        const charts = await google.colab.kernel.invokeFunction(\n",
              "            'suggestCharts', [key], {});\n",
              "      } catch (error) {\n",
              "        console.error('Error during call to suggestCharts:', error);\n",
              "      }\n",
              "      quickchartButtonEl.classList.remove('colab-df-spinner');\n",
              "      quickchartButtonEl.classList.add('colab-df-quickchart-complete');\n",
              "    }\n",
              "    (() => {\n",
              "      let quickchartButtonEl =\n",
              "        document.querySelector('#df-7bf840af-1b6f-4468-b530-b02d5948bf6c button');\n",
              "      quickchartButtonEl.style.display =\n",
              "        google.colab.kernel.accessAllowed ? 'block' : 'none';\n",
              "    })();\n",
              "  </script>\n",
              "</div>\n",
              "    </div>\n",
              "  </div>\n"
            ]
          },
          "metadata": {},
          "execution_count": 13
        }
      ]
    },
    {
      "cell_type": "markdown",
      "source": [
        "Q1 Select all the even indexed rows from the given dataset. What is the value in the 3rd indexed column of the **0th** indexed row in the selected dataframe. (row/ column indexed from zero(0) in python/pandas)\n",
        "\n",
        "Q2 Select all the even indexed rows from the given dataset. What is the value in the 3rd indexed column of the **332th** indexed row in the selected dataframe. (row/ column indexed from zero(0) in python/pandas)"
      ],
      "metadata": {
        "id": "hq_3yYOO-vkP"
      }
    },
    {
      "cell_type": "code",
      "source": [
        "even_df = df.iloc[::2].reset_index(drop=True)\n",
        "\n",
        "print('Q1 : ', even_df.iloc[0,3])\n",
        "print('Q2 : ', even_df.iloc[332,3])"
      ],
      "metadata": {
        "colab": {
          "base_uri": "https://localhost:8080/"
        },
        "id": "xZsxbWH_9IaG",
        "outputId": "f19f42e4-3bca-44f2-9d5a-be2d3b1321fb"
      },
      "execution_count": null,
      "outputs": [
        {
          "output_type": "stream",
          "name": "stdout",
          "text": [
            "Q1 :  111440.0\n",
            "Q2 :  256200.0\n"
          ]
        }
      ]
    },
    {
      "cell_type": "markdown",
      "source": [
        "Q3 Select all the odd indexed rows from the given dataset. What is the value in the 3rd indexed column of the 332th indexed row in the selected dataframe.\n",
        "\n",
        "Q4 Select all the odd indexed columns from the given dataset. What is the value in the 5th indexed column of the 100th indexed row in the selected dataframe."
      ],
      "metadata": {
        "id": "p3D7tVMDCBPJ"
      }
    },
    {
      "cell_type": "code",
      "source": [
        "odd_df = df.iloc[1::2].reset_index(drop=True)\n",
        "\n",
        "print('Q3 : ', odd_df.iloc[332,3])\n",
        "print('Q4 : ', odd_df.iloc[100,5])\n"
      ],
      "metadata": {
        "colab": {
          "base_uri": "https://localhost:8080/"
        },
        "id": "7CqM0szy-5-a",
        "outputId": "811d5ab8-e4b1-4e1a-98d7-7b418408306f"
      },
      "execution_count": null,
      "outputs": [
        {
          "output_type": "stream",
          "name": "stdout",
          "text": [
            "Q3 :  352940.0\n",
            "Q4 :  Single Family\n"
          ]
        }
      ]
    },
    {
      "cell_type": "markdown",
      "source": [
        "Q5 Select all the even indexed columns and even indexed rows from the given dataset. What is the value in the 3th indexed column of the 255th indexed row in the selected dataframe"
      ],
      "metadata": {
        "id": "onof8PmNSgba"
      }
    },
    {
      "cell_type": "code",
      "source": [
        "even_rowcol_df = even_df.iloc[:,::2].reset_index(drop=True)\n",
        "\n",
        "even_rowcol_df.iloc[255, 3]"
      ],
      "metadata": {
        "colab": {
          "base_uri": "https://localhost:8080/",
          "height": 36
        },
        "id": "xAh_NvNsRl6Z",
        "outputId": "c93514fa-13d2-4a5f-c723-3cf3b439e492"
      },
      "execution_count": null,
      "outputs": [
        {
          "output_type": "execute_result",
          "data": {
            "text/plain": [
              "'Detached House'"
            ],
            "application/vnd.google.colaboratory.intrinsic+json": {
              "type": "string"
            }
          },
          "metadata": {},
          "execution_count": 16
        }
      ]
    },
    {
      "cell_type": "markdown",
      "source": [
        "Q6 Determine the number of samples (rows) in the dataset that belong to the six most recent years, based on the provided data."
      ],
      "metadata": {
        "id": "RMNJEsIKSlg3"
      }
    },
    {
      "cell_type": "code",
      "source": [
        "recent_years = [2022, 2021, 2020, 2019, 2018, 2017]\n",
        "filtered_df = df[df['Year'].isin(recent_years)]\n",
        "filtered_df.shape"
      ],
      "metadata": {
        "colab": {
          "base_uri": "https://localhost:8080/"
        },
        "id": "Yj-3xNi0Rl4B",
        "outputId": "7687e505-c7c6-4a38-b8db-a7e786d4f1e1"
      },
      "execution_count": null,
      "outputs": [
        {
          "output_type": "execute_result",
          "data": {
            "text/plain": [
              "(4749, 12)"
            ]
          },
          "metadata": {},
          "execution_count": 17
        }
      ]
    },
    {
      "cell_type": "markdown",
      "source": [
        "Q7 Determine the number of samples (rows) in the dataset which has num_rooms = 3 and num_bathrooms = 3"
      ],
      "metadata": {
        "id": "y7pibNM4CJRZ"
      }
    },
    {
      "cell_type": "code",
      "source": [
        "df.loc[(df['num_rooms'] == 3) & (df['num_bathrooms'] == 3)].shape"
      ],
      "metadata": {
        "colab": {
          "base_uri": "https://localhost:8080/"
        },
        "id": "9IXfniBPCNvJ",
        "outputId": "63e0edfb-57ba-4d5e-a872-a3ca7607b4d5"
      },
      "execution_count": null,
      "outputs": [
        {
          "output_type": "execute_result",
          "data": {
            "text/plain": [
              "(2730, 12)"
            ]
          },
          "metadata": {},
          "execution_count": 18
        }
      ]
    },
    {
      "cell_type": "markdown",
      "source": [
        "Q8 Determine the number of samples (rows) in the dataset which has num_rooms = 3 or num_bathrooms = 3"
      ],
      "metadata": {
        "id": "bKetPb-FCtHP"
      }
    },
    {
      "cell_type": "code",
      "source": [
        "df.loc[(df['num_rooms'] == 3) | (df['num_bathrooms'] == 3)].shape"
      ],
      "metadata": {
        "colab": {
          "base_uri": "https://localhost:8080/"
        },
        "id": "tJ-0ORBvCumD",
        "outputId": "2d4e7b6e-4b7c-47b1-ad1f-04f6661db061"
      },
      "execution_count": null,
      "outputs": [
        {
          "output_type": "execute_result",
          "data": {
            "text/plain": [
              "(8591, 12)"
            ]
          },
          "metadata": {},
          "execution_count": 19
        }
      ]
    },
    {
      "cell_type": "markdown",
      "source": [
        "Q9 In the Year 2022, how many houses (rows) located in the Greenwich Locality have exactly num_room == 3, and facing towards either the North or East?"
      ],
      "metadata": {
        "id": "DIhg_aONEoEf"
      }
    },
    {
      "cell_type": "code",
      "source": [
        "df.loc[(df['Year'] == 2022)& (df['Locality']=='Greenwich') & (df['num_rooms'] == 3) & ((df['Face'] == 'North')| (df['Face'] == 'East'))].shape"
      ],
      "metadata": {
        "colab": {
          "base_uri": "https://localhost:8080/"
        },
        "id": "LfO9745NC-iA",
        "outputId": "d69c92fd-7dde-42ef-cce6-28debc7df4eb"
      },
      "execution_count": null,
      "outputs": [
        {
          "output_type": "execute_result",
          "data": {
            "text/plain": [
              "(42, 12)"
            ]
          },
          "metadata": {},
          "execution_count": 20
        }
      ]
    },
    {
      "cell_type": "markdown",
      "source": [
        "Q10 Calculate the number of samples(rows) that correspond to the month of August across all the years.?"
      ],
      "metadata": {
        "id": "1OBv133ERdcE"
      }
    },
    {
      "cell_type": "code",
      "source": [
        "df.loc[df['Date'].str[5:7].astype(int) == 8].shape"
      ],
      "metadata": {
        "colab": {
          "base_uri": "https://localhost:8080/"
        },
        "id": "DobhU7GqQyKc",
        "outputId": "3e0892a1-a514-4bdc-adab-5059b8755dae"
      },
      "execution_count": null,
      "outputs": [
        {
          "output_type": "execute_result",
          "data": {
            "text/plain": [
              "(1050, 12)"
            ]
          },
          "metadata": {},
          "execution_count": 21
        }
      ]
    },
    {
      "cell_type": "markdown",
      "source": [
        "Q11 According to the data which Locality have highest average Sale Price?"
      ],
      "metadata": {
        "id": "AOgkefXVQiGk"
      }
    },
    {
      "cell_type": "code",
      "source": [
        "df.groupby(['Locality'])['Sale Price'].mean().sort_values(ascending=False)"
      ],
      "metadata": {
        "colab": {
          "base_uri": "https://localhost:8080/"
        },
        "id": "mK_lvVedEu6X",
        "outputId": "2bb1e7bb-b75e-4db0-c56e-70571a49a3a5"
      },
      "execution_count": null,
      "outputs": [
        {
          "output_type": "execute_result",
          "data": {
            "text/plain": [
              "Locality\n",
              "Greenwich        2.270224e+06\n",
              "Fairfield        7.277225e+05\n",
              "Stamford         6.305313e+05\n",
              "Norwalk          5.590959e+05\n",
              "West Hartford    3.385472e+05\n",
              "Bridgeport       1.740953e+05\n",
              "Waterbury        1.062152e+05\n",
              "Name: Sale Price, dtype: float64"
            ]
          },
          "metadata": {},
          "execution_count": 22
        }
      ]
    }
  ]
}