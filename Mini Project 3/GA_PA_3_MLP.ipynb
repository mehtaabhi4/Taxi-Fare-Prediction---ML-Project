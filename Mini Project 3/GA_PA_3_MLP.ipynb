{
  "nbformat": 4,
  "nbformat_minor": 0,
  "metadata": {
    "colab": {
      "provenance": [],
      "toc_visible": true,
      "authorship_tag": "ABX9TyNDX76G0iWr3FPQWt9wihwh",
      "include_colab_link": true
    },
    "kernelspec": {
      "name": "python3",
      "display_name": "Python 3"
    },
    "language_info": {
      "name": "python"
    }
  },
  "cells": [
    {
      "cell_type": "markdown",
      "metadata": {
        "id": "view-in-github",
        "colab_type": "text"
      },
      "source": [
        "<a href=\"https://colab.research.google.com/github/mehtaabhi4/Machine-Learning-Practice-MLP/blob/main/Mini%20Project%203/GA_PA_3_MLP.ipynb\" target=\"_parent\"><img src=\"https://colab.research.google.com/assets/colab-badge.svg\" alt=\"Open In Colab\"/></a>"
      ]
    },
    {
      "cell_type": "code",
      "source": [
        "import numpy as np\n",
        "import pandas as pd\n",
        "\n",
        "from sklearn.datasets import fetch_california_housing"
      ],
      "metadata": {
        "id": "oKdFruVgImZA"
      },
      "execution_count": null,
      "outputs": []
    },
    {
      "cell_type": "markdown",
      "source": [
        "Load Dataset"
      ],
      "metadata": {
        "id": "s-69EeQOI_kH"
      }
    },
    {
      "cell_type": "code",
      "execution_count": null,
      "metadata": {
        "id": "B3mxhyjzIKro"
      },
      "outputs": [],
      "source": [
        "features, labels = fetch_california_housing(as_frame=True, return_X_y=True)\n"
      ]
    },
    {
      "cell_type": "markdown",
      "source": [
        "#**Practice Assignment 3**"
      ],
      "metadata": {
        "id": "bPKuDDr_RJ7P"
      }
    },
    {
      "cell_type": "markdown",
      "source": [
        "Q1 What is the shape of feature matrix for the dataset?\n",
        "\n",
        "Ans: (20640, 8)"
      ],
      "metadata": {
        "id": "MatJrhLfMXzT"
      }
    },
    {
      "cell_type": "code",
      "source": [
        "print(\"Shape of feature matrix: \", features.shape)\n",
        "print(\"Shape of label vector: \", labels.shape)"
      ],
      "metadata": {
        "colab": {
          "base_uri": "https://localhost:8080/"
        },
        "id": "csbrUC6sJ9Zy",
        "outputId": "293def5d-48eb-44f9-f1c8-3963fb5fae90"
      },
      "execution_count": null,
      "outputs": [
        {
          "output_type": "stream",
          "name": "stdout",
          "text": [
            "Shape of feature matrix:  (20640, 8)\n",
            "Shape of label vector:  (20640,)\n"
          ]
        }
      ]
    },
    {
      "cell_type": "markdown",
      "source": [
        "Q2 How many missing values are present in the dataset?\n",
        "\n",
        "Ans: 0"
      ],
      "metadata": {
        "id": "CIYX5KX4MZxh"
      }
    },
    {
      "cell_type": "code",
      "source": [
        "features_missing_val = features.isna().sum()\n",
        "labels_missing_values = labels.isna().sum()\n",
        "\n",
        "features_missing_val, labels_missing_values"
      ],
      "metadata": {
        "colab": {
          "base_uri": "https://localhost:8080/"
        },
        "id": "kLY8FkL4Lp3R",
        "outputId": "35beb7d4-92df-4ff3-9607-27e8be6be911"
      },
      "execution_count": null,
      "outputs": [
        {
          "output_type": "execute_result",
          "data": {
            "text/plain": [
              "(MedInc        0\n",
              " HouseAge      0\n",
              " AveRooms      0\n",
              " AveBedrms     0\n",
              " Population    0\n",
              " AveOccup      0\n",
              " Latitude      0\n",
              " Longitude     0\n",
              " dtype: int64,\n",
              " 0)"
            ]
          },
          "metadata": {},
          "execution_count": 4
        }
      ]
    },
    {
      "cell_type": "code",
      "source": [
        "from sklearn.model_selection import train_test_split\n",
        "\n",
        "train_features, test_features, train_labels, test_labels = train_test_split(features, labels, test_size=0.2, random_state=0, shuffle=False)"
      ],
      "metadata": {
        "id": "KP_5VF0wMpE8"
      },
      "execution_count": null,
      "outputs": []
    },
    {
      "cell_type": "markdown",
      "source": [
        "Q3 What is the value of house age in third sample of test set?"
      ],
      "metadata": {
        "id": "mSQtug6cQGie"
      }
    },
    {
      "cell_type": "code",
      "source": [
        "test_features.iloc[2,:]\n",
        "\n",
        "# OR test_features.iloc[2,1]"
      ],
      "metadata": {
        "colab": {
          "base_uri": "https://localhost:8080/"
        },
        "id": "YBAVyEerP38M",
        "outputId": "dc8bb7f5-9526-419e-9932-a4eaee4ea263"
      },
      "execution_count": null,
      "outputs": [
        {
          "output_type": "execute_result",
          "data": {
            "text/plain": [
              "MedInc           2.118600\n",
              "HouseAge        28.000000\n",
              "AveRooms         4.707581\n",
              "AveBedrms        1.039711\n",
              "Population    1719.000000\n",
              "AveOccup         3.102888\n",
              "Latitude        37.800000\n",
              "Longitude     -121.220000\n",
              "Name: 16514, dtype: float64"
            ]
          },
          "metadata": {},
          "execution_count": 6
        }
      ]
    },
    {
      "cell_type": "markdown",
      "source": [
        "Q4 What is the value of Population in the first sample of training set?"
      ],
      "metadata": {
        "id": "FCmIMIHbQaJZ"
      }
    },
    {
      "cell_type": "code",
      "source": [
        "train_features.iloc[0,:]"
      ],
      "metadata": {
        "colab": {
          "base_uri": "https://localhost:8080/"
        },
        "id": "3RnxA3EQNteF",
        "outputId": "cdc5ecd0-6917-4039-b254-3d650d578014"
      },
      "execution_count": null,
      "outputs": [
        {
          "output_type": "execute_result",
          "data": {
            "text/plain": [
              "MedInc          8.325200\n",
              "HouseAge       41.000000\n",
              "AveRooms        6.984127\n",
              "AveBedrms       1.023810\n",
              "Population    322.000000\n",
              "AveOccup        2.555556\n",
              "Latitude       37.880000\n",
              "Longitude    -122.230000\n",
              "Name: 0, dtype: float64"
            ]
          },
          "metadata": {},
          "execution_count": 7
        }
      ]
    },
    {
      "cell_type": "markdown",
      "source": [
        "Q5 What is the mean of output label in training set?"
      ],
      "metadata": {
        "id": "bcA-gvceQgi6"
      }
    },
    {
      "cell_type": "code",
      "source": [
        "train_labels.mean()"
      ],
      "metadata": {
        "colab": {
          "base_uri": "https://localhost:8080/"
        },
        "id": "4fOQ2b26Ofgo",
        "outputId": "0500475f-3614-4c01-f237-8d769a819320"
      },
      "execution_count": null,
      "outputs": [
        {
          "output_type": "execute_result",
          "data": {
            "text/plain": [
              "2.02067031310562"
            ]
          },
          "metadata": {},
          "execution_count": 8
        }
      ]
    },
    {
      "cell_type": "markdown",
      "source": [
        "Q6 What is the median of output label in test set?"
      ],
      "metadata": {
        "id": "mmj2lfH0QigT"
      }
    },
    {
      "cell_type": "code",
      "source": [
        "test_labels.median()"
      ],
      "metadata": {
        "colab": {
          "base_uri": "https://localhost:8080/"
        },
        "id": "7n1VTd_VOkjW",
        "outputId": "52795577-27f5-42ed-c015-4aff55db4deb"
      },
      "execution_count": null,
      "outputs": [
        {
          "output_type": "execute_result",
          "data": {
            "text/plain": [
              "2.1475"
            ]
          },
          "metadata": {},
          "execution_count": 9
        }
      ]
    },
    {
      "cell_type": "code",
      "source": [
        "from sklearn.pipeline import Pipeline\n",
        "from sklearn.preprocessing import StandardScaler\n",
        "from sklearn.linear_model import LinearRegression\n",
        "\n",
        "lin_reg_pipe = Pipeline([\n",
        "    ('feature_scaling', StandardScaler()),\n",
        "    ('lin_reg', LinearRegression())\n",
        "])\n",
        "\n",
        "lin_reg_pipe.fit(train_features, train_labels)"
      ],
      "metadata": {
        "colab": {
          "base_uri": "https://localhost:8080/",
          "height": 125
        },
        "id": "ANzoAB2yOtH7",
        "outputId": "58d464ab-02f8-4571-b65f-37dfef1adc21"
      },
      "execution_count": null,
      "outputs": [
        {
          "output_type": "execute_result",
          "data": {
            "text/plain": [
              "Pipeline(steps=[('feature_scaling', StandardScaler()),\n",
              "                ('lin_reg', LinearRegression())])"
            ],
            "text/html": [
              "<style>#sk-container-id-1 {color: black;background-color: white;}#sk-container-id-1 pre{padding: 0;}#sk-container-id-1 div.sk-toggleable {background-color: white;}#sk-container-id-1 label.sk-toggleable__label {cursor: pointer;display: block;width: 100%;margin-bottom: 0;padding: 0.3em;box-sizing: border-box;text-align: center;}#sk-container-id-1 label.sk-toggleable__label-arrow:before {content: \"▸\";float: left;margin-right: 0.25em;color: #696969;}#sk-container-id-1 label.sk-toggleable__label-arrow:hover:before {color: black;}#sk-container-id-1 div.sk-estimator:hover label.sk-toggleable__label-arrow:before {color: black;}#sk-container-id-1 div.sk-toggleable__content {max-height: 0;max-width: 0;overflow: hidden;text-align: left;background-color: #f0f8ff;}#sk-container-id-1 div.sk-toggleable__content pre {margin: 0.2em;color: black;border-radius: 0.25em;background-color: #f0f8ff;}#sk-container-id-1 input.sk-toggleable__control:checked~div.sk-toggleable__content {max-height: 200px;max-width: 100%;overflow: auto;}#sk-container-id-1 input.sk-toggleable__control:checked~label.sk-toggleable__label-arrow:before {content: \"▾\";}#sk-container-id-1 div.sk-estimator input.sk-toggleable__control:checked~label.sk-toggleable__label {background-color: #d4ebff;}#sk-container-id-1 div.sk-label input.sk-toggleable__control:checked~label.sk-toggleable__label {background-color: #d4ebff;}#sk-container-id-1 input.sk-hidden--visually {border: 0;clip: rect(1px 1px 1px 1px);clip: rect(1px, 1px, 1px, 1px);height: 1px;margin: -1px;overflow: hidden;padding: 0;position: absolute;width: 1px;}#sk-container-id-1 div.sk-estimator {font-family: monospace;background-color: #f0f8ff;border: 1px dotted black;border-radius: 0.25em;box-sizing: border-box;margin-bottom: 0.5em;}#sk-container-id-1 div.sk-estimator:hover {background-color: #d4ebff;}#sk-container-id-1 div.sk-parallel-item::after {content: \"\";width: 100%;border-bottom: 1px solid gray;flex-grow: 1;}#sk-container-id-1 div.sk-label:hover label.sk-toggleable__label {background-color: #d4ebff;}#sk-container-id-1 div.sk-serial::before {content: \"\";position: absolute;border-left: 1px solid gray;box-sizing: border-box;top: 0;bottom: 0;left: 50%;z-index: 0;}#sk-container-id-1 div.sk-serial {display: flex;flex-direction: column;align-items: center;background-color: white;padding-right: 0.2em;padding-left: 0.2em;position: relative;}#sk-container-id-1 div.sk-item {position: relative;z-index: 1;}#sk-container-id-1 div.sk-parallel {display: flex;align-items: stretch;justify-content: center;background-color: white;position: relative;}#sk-container-id-1 div.sk-item::before, #sk-container-id-1 div.sk-parallel-item::before {content: \"\";position: absolute;border-left: 1px solid gray;box-sizing: border-box;top: 0;bottom: 0;left: 50%;z-index: -1;}#sk-container-id-1 div.sk-parallel-item {display: flex;flex-direction: column;z-index: 1;position: relative;background-color: white;}#sk-container-id-1 div.sk-parallel-item:first-child::after {align-self: flex-end;width: 50%;}#sk-container-id-1 div.sk-parallel-item:last-child::after {align-self: flex-start;width: 50%;}#sk-container-id-1 div.sk-parallel-item:only-child::after {width: 0;}#sk-container-id-1 div.sk-dashed-wrapped {border: 1px dashed gray;margin: 0 0.4em 0.5em 0.4em;box-sizing: border-box;padding-bottom: 0.4em;background-color: white;}#sk-container-id-1 div.sk-label label {font-family: monospace;font-weight: bold;display: inline-block;line-height: 1.2em;}#sk-container-id-1 div.sk-label-container {text-align: center;}#sk-container-id-1 div.sk-container {/* jupyter's `normalize.less` sets `[hidden] { display: none; }` but bootstrap.min.css set `[hidden] { display: none !important; }` so we also need the `!important` here to be able to override the default hidden behavior on the sphinx rendered scikit-learn.org. See: https://github.com/scikit-learn/scikit-learn/issues/21755 */display: inline-block !important;position: relative;}#sk-container-id-1 div.sk-text-repr-fallback {display: none;}</style><div id=\"sk-container-id-1\" class=\"sk-top-container\"><div class=\"sk-text-repr-fallback\"><pre>Pipeline(steps=[(&#x27;feature_scaling&#x27;, StandardScaler()),\n",
              "                (&#x27;lin_reg&#x27;, LinearRegression())])</pre><b>In a Jupyter environment, please rerun this cell to show the HTML representation or trust the notebook. <br />On GitHub, the HTML representation is unable to render, please try loading this page with nbviewer.org.</b></div><div class=\"sk-container\" hidden><div class=\"sk-item sk-dashed-wrapped\"><div class=\"sk-label-container\"><div class=\"sk-label sk-toggleable\"><input class=\"sk-toggleable__control sk-hidden--visually\" id=\"sk-estimator-id-1\" type=\"checkbox\" ><label for=\"sk-estimator-id-1\" class=\"sk-toggleable__label sk-toggleable__label-arrow\">Pipeline</label><div class=\"sk-toggleable__content\"><pre>Pipeline(steps=[(&#x27;feature_scaling&#x27;, StandardScaler()),\n",
              "                (&#x27;lin_reg&#x27;, LinearRegression())])</pre></div></div></div><div class=\"sk-serial\"><div class=\"sk-item\"><div class=\"sk-estimator sk-toggleable\"><input class=\"sk-toggleable__control sk-hidden--visually\" id=\"sk-estimator-id-2\" type=\"checkbox\" ><label for=\"sk-estimator-id-2\" class=\"sk-toggleable__label sk-toggleable__label-arrow\">StandardScaler</label><div class=\"sk-toggleable__content\"><pre>StandardScaler()</pre></div></div></div><div class=\"sk-item\"><div class=\"sk-estimator sk-toggleable\"><input class=\"sk-toggleable__control sk-hidden--visually\" id=\"sk-estimator-id-3\" type=\"checkbox\" ><label for=\"sk-estimator-id-3\" class=\"sk-toggleable__label sk-toggleable__label-arrow\">LinearRegression</label><div class=\"sk-toggleable__content\"><pre>LinearRegression()</pre></div></div></div></div></div></div></div>"
            ]
          },
          "metadata": {},
          "execution_count": 10
        }
      ]
    },
    {
      "cell_type": "markdown",
      "source": [
        "Q7 If we use StandardScaler for preprocessing and LinearRegression for fitting the model with training set obtained in previous questions, what are the coefficients obtained in the predicted model?\n",
        "\n",
        "Q8 If we use StandardScaler for preprocessing and LinearRegression for fitting the model with training set used in previous question, what is the bias term predicted by the model?"
      ],
      "metadata": {
        "id": "rgXBCDNsQrD0"
      }
    },
    {
      "cell_type": "code",
      "source": [
        "print('weight vector (w_1,..., w_m): ', lin_reg_pipe[-1].coef_)\n",
        "print('intercept (w_0): ', lin_reg_pipe[-1].intercept_)"
      ],
      "metadata": {
        "colab": {
          "base_uri": "https://localhost:8080/"
        },
        "id": "qc8HMv-oPmHZ",
        "outputId": "e3861823-1718-4b4a-bc84-466dc9bbc551"
      },
      "execution_count": null,
      "outputs": [
        {
          "output_type": "stream",
          "name": "stdout",
          "text": [
            "weight vector (w_1,..., w_m):  [ 0.83817967  0.12032096 -0.32135834  0.36456599 -0.00170674 -0.04524631\n",
            " -0.87994217 -0.82634126]\n",
            "intercept (w_0):  2.020670313105614\n"
          ]
        }
      ]
    },
    {
      "cell_type": "markdown",
      "source": [
        "#**Graded Assignment 3**"
      ],
      "metadata": {
        "id": "tfehpTYORdML"
      }
    },
    {
      "cell_type": "code",
      "source": [
        "predicted_labels = lin_reg_pipe.predict(test_features)"
      ],
      "metadata": {
        "id": "yd-FY8S3Vp_t"
      },
      "execution_count": null,
      "outputs": []
    },
    {
      "cell_type": "markdown",
      "source": [
        "Q1 What is the R squared value for predictions obtained using test set features?"
      ],
      "metadata": {
        "id": "wv9JRMZoRiL0"
      }
    },
    {
      "cell_type": "code",
      "source": [
        "from sklearn.metrics import r2_score\n",
        "\n",
        "r2 = r2_score(test_labels, predicted_labels)\n",
        "\n",
        "print(\"R2 Score on Test Data:\", r2)"
      ],
      "metadata": {
        "colab": {
          "base_uri": "https://localhost:8080/"
        },
        "id": "hok2bRODRmNG",
        "outputId": "2fd704ac-da33-4d72-ce6d-c13f114d9775"
      },
      "execution_count": null,
      "outputs": [
        {
          "output_type": "stream",
          "name": "stdout",
          "text": [
            "R2 Score on Test Data: 0.6605140591531993\n"
          ]
        }
      ]
    },
    {
      "cell_type": "markdown",
      "source": [
        "Q2 If we use StandardScaler for preprocessing and LinearRegression for fitting the model, what is the root mean squared error value for predictions obtained using test set features?"
      ],
      "metadata": {
        "id": "A5h3lY6VWYqX"
      }
    },
    {
      "cell_type": "code",
      "source": [
        "from sklearn.metrics import mean_squared_error\n",
        "\n",
        "rmse = mean_squared_error(test_labels, predicted_labels, squared=False)\n",
        "\n",
        "print(\"RMSE Score on Test Data:\", rmse)"
      ],
      "metadata": {
        "colab": {
          "base_uri": "https://localhost:8080/"
        },
        "id": "xDYG4EibWdMW",
        "outputId": "91fd503a-1d36-4c5a-96a2-c8aeae673265"
      },
      "execution_count": null,
      "outputs": [
        {
          "output_type": "stream",
          "name": "stdout",
          "text": [
            "RMSE Score on Test Data: 0.7033383507521878\n"
          ]
        }
      ]
    },
    {
      "cell_type": "markdown",
      "source": [
        "Q3 Explained Variance score"
      ],
      "metadata": {
        "id": "Yyx_v7UzYOga"
      }
    },
    {
      "cell_type": "code",
      "source": [
        "from sklearn.metrics import explained_variance_score\n",
        "\n",
        "evs = explained_variance_score(test_labels, predicted_labels)\n",
        "\n",
        "print(\"Explained Varaince Score: \", evs)"
      ],
      "metadata": {
        "colab": {
          "base_uri": "https://localhost:8080/"
        },
        "id": "Nv9aRKaJW_gd",
        "outputId": "7eca4159-1068-4ebe-a771-fd67c16277ea"
      },
      "execution_count": null,
      "outputs": [
        {
          "output_type": "stream",
          "name": "stdout",
          "text": [
            "Explained Varaince Score:  0.6605500501742703\n"
          ]
        }
      ]
    },
    {
      "cell_type": "markdown",
      "source": [
        "Q4 Max Error"
      ],
      "metadata": {
        "id": "xdg4RcsAYT71"
      }
    },
    {
      "cell_type": "code",
      "source": [
        "from sklearn.metrics import max_error\n",
        "\n",
        "max_error = max_error(test_labels, predicted_labels)\n",
        "\n",
        "print(\"Max Error: \", max_error)\n"
      ],
      "metadata": {
        "colab": {
          "base_uri": "https://localhost:8080/"
        },
        "id": "D4fj2fcJXh1v",
        "outputId": "c8f38765-5d7f-4000-9682-911f6828dcaf"
      },
      "execution_count": null,
      "outputs": [
        {
          "output_type": "stream",
          "name": "stdout",
          "text": [
            "Max Error:  7.260453292958372\n"
          ]
        }
      ]
    },
    {
      "cell_type": "markdown",
      "source": [
        "Q5 Mean Absolute Error"
      ],
      "metadata": {
        "id": "MggWPW-XYWhv"
      }
    },
    {
      "cell_type": "code",
      "source": [
        "from sklearn.metrics import mean_absolute_error\n",
        "\n",
        "mae = mean_absolute_error(test_labels, predicted_labels)\n",
        "\n",
        "print(\"Mean Absolute Error: \", mae)"
      ],
      "metadata": {
        "colab": {
          "base_uri": "https://localhost:8080/"
        },
        "id": "W8JFq6DvXwoX",
        "outputId": "bba51c5b-d6e4-4bf6-ae94-71ffffacbaf5"
      },
      "execution_count": null,
      "outputs": [
        {
          "output_type": "stream",
          "name": "stdout",
          "text": [
            "Mean Absolute Error:  0.5168526993787042\n"
          ]
        }
      ]
    },
    {
      "cell_type": "markdown",
      "source": [
        "Q6 Mean Squared Error"
      ],
      "metadata": {
        "id": "BFiXTPr3YZpv"
      }
    },
    {
      "cell_type": "code",
      "source": [
        "from sklearn.metrics import mean_squared_error\n",
        "\n",
        "mse = mean_squared_error(test_labels, predicted_labels)\n",
        "\n",
        "print(\"MSE Score on Test Data:\", mse)"
      ],
      "metadata": {
        "colab": {
          "base_uri": "https://localhost:8080/"
        },
        "id": "uo2-cj93YAue",
        "outputId": "e214c337-15bd-4a5d-854b-f1b46521dec4"
      },
      "execution_count": null,
      "outputs": [
        {
          "output_type": "stream",
          "name": "stdout",
          "text": [
            "MSE Score on Test Data: 0.4946848356388075\n"
          ]
        }
      ]
    },
    {
      "cell_type": "markdown",
      "source": [
        "Q7 What is the bias term?\n",
        "\n",
        "Q8 What are the coefficients in predicted model?"
      ],
      "metadata": {
        "id": "rHLN6Gb7Ydtq"
      }
    },
    {
      "cell_type": "code",
      "source": [
        "from sklearn.linear_model import SGDRegressor\n",
        "\n",
        "sgd_pipe = Pipeline([\n",
        "    ('feature_scaling', StandardScaler()),\n",
        "    ('sgd_lin_reg', SGDRegressor(random_state=0))\n",
        "])\n",
        "\n",
        "sgd_pipe.fit(train_features, train_labels)\n",
        "\n",
        "print('intercept (w_0): ', sgd_pipe[-1].intercept_)\n",
        "print('weight vector (w_1,..., w_m): ', sgd_pipe[-1].coef_)"
      ],
      "metadata": {
        "colab": {
          "base_uri": "https://localhost:8080/"
        },
        "id": "WosLGLmoDpuC",
        "outputId": "4fe691e5-eea5-40d5-b4f8-4337d599df9d"
      },
      "execution_count": null,
      "outputs": [
        {
          "output_type": "stream",
          "name": "stdout",
          "text": [
            "intercept (w_0):  [2.01123921]\n",
            "weight vector (w_1,..., w_m):  [ 0.84046697  0.112331   -0.41213039  0.21595971 -0.01781887 -0.01480892\n",
            " -0.87394103 -0.83913104]\n"
          ]
        }
      ]
    }
  ]
}